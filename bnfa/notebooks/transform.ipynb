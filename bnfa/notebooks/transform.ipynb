{
 "cells": [
  {
   "cell_type": "code",
   "execution_count": 1,
   "metadata": {
    "execution": {
     "iopub.execute_input": "2023-07-11T02:51:59.255779Z",
     "iopub.status.busy": "2023-07-11T02:51:59.255500Z",
     "iopub.status.idle": "2023-07-11T02:52:01.299500Z",
     "shell.execute_reply": "2023-07-11T02:52:01.298377Z"
    }
   },
   "outputs": [],
   "source": [
    "# pull source input XML and convert to transformed XML via XSL.\n",
    "\n",
    "import pathlib\n",
    "import subprocess\n",
    "\n",
    "saxon_path = pathlib.Path.cwd().parents[1] / 'saxon' / 'saxon-he-12.3.jar'\n",
    "if not saxon_path.exists():\n",
    "    raise Exception('saxon does not exist.')\n",
    "\n",
    "source_path = pathlib.Path.cwd().parents[0] / 'input' / '0.xml'\n",
    "if not source_path.exists():\n",
    "    raise Exception('source does not exist.')\n",
    "\n",
    "transform_path = pathlib.Path.cwd().parents[0] / '20230601_BNFA-RDF-XML_withoutComments.xsl'\n",
    "if not transform_path.exists():\n",
    "    raise Exception('transform does not exist.')\n",
    "\n",
    "output_path = pathlib.Path.cwd().parents[0] / 'transform' / '0.xml'\n",
    "subprocess.call(['java', '-jar', str(saxon_path), f'-s:{source_path}', f'-xsl:{transform_path}', f'-o:{output_path}'])\n",
    "if not output_path.exists():\n",
    "    raise Exception('output does not exist.')"
   ]
  }
 ],
 "metadata": {
  "kernelspec": {
   "display_name": "Python 3",
   "language": "python",
   "name": "python3"
  },
  "language_info": {
   "codemirror_mode": {
    "name": "ipython",
    "version": 3
   },
   "file_extension": ".py",
   "mimetype": "text/x-python",
   "name": "python",
   "nbconvert_exporter": "python",
   "pygments_lexer": "ipython3",
   "version": "3.10.6"
  }
 },
 "nbformat": 4,
 "nbformat_minor": 2
}
